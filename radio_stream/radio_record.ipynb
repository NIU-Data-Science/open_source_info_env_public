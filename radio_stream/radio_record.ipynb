{
 "metadata": {
  "language_info": {
   "codemirror_mode": {
    "name": "ipython",
    "version": 3
   },
   "file_extension": ".py",
   "mimetype": "text/x-python",
   "name": "python",
   "nbconvert_exporter": "python",
   "pygments_lexer": "ipython3",
   "version": "3.8.5-final"
  },
  "orig_nbformat": 2,
  "kernelspec": {
   "name": "python3",
   "display_name": "Python 3.8.5 64-bit (conda)",
   "metadata": {
    "interpreter": {
     "hash": "b3ba2566441a7c06988d0923437866b63cedc61552a5af99d1f4fb67d367b25f"
    }
   }
  }
 },
 "nbformat": 4,
 "nbformat_minor": 2,
 "cells": [
  {
   "source": [
    "# Radio Record\n",
    "This file contains functions to record radio directly from live internet stream; three example stream heads\n",
    "are provided"
   ],
   "cell_type": "markdown",
   "metadata": {}
  },
  {
   "cell_type": "code",
   "execution_count": 1,
   "metadata": {},
   "outputs": [],
   "source": [
    "# Requirement: need ffmpeg installed\n",
    "# Windows: builds on https://www.gyan.dev/ffmpeg/builds/ - download link should be:\n",
    "#   https://www.gyan.dev/ffmpeg/builds/ffmpeg-release-full.7z\n",
    "#   Then, copy the ffmpeg installation to C:\\Program Files\\ffmpeg and  \n",
    "#     set C:\\Program Files\\ffmpeg\\bin in your PATH environemnt variables \n",
    "# Linux: sudo apt install ffmpeg\n",
    "\n",
    "# Requirement: Google Cloud API access\n",
    "# get google cloud account, enable the API for speech and translation, and install python library\n",
    "# more info: https://cloud.google.com/python/getting-started\n",
    "# create project and enable APIs: https://console.cloud.google.com/projectselector2/home\n",
    "# under APIs & Services, credentials, create [additional] auth keys and download as JSON files\n",
    "# pip install google-cloud-speech\n",
    "# pip install google-cloud-translate\n",
    "\n",
    "# Requirement: SpeechRecognition is a python library that can use a variety of speech recognition engines, including Google Cloud SpeechRecognition\n",
    "# pip install SpeechRecognition\n",
    "\n",
    "# Requirement: pydub allows us to record and manipulate sound files\n",
    "# pip install pydub\n",
    "\n",
    "import datetime\n",
    "import os \n",
    "from urllib.request import urlopen\n",
    "import speech_recognition as sr \n",
    "import json\n",
    "from pydub import AudioSegment # uses FFMPEG\n",
    "from pathlib import Path\n",
    "from google.cloud import translate_v2 as translate\n",
    "import six\n"
   ]
  },
  {
   "cell_type": "code",
   "execution_count": 2,
   "metadata": {},
   "outputs": [],
   "source": [
    "# GOOGLE CLOUD CREDENTIALS\n",
    "\n",
    "# type in your own GOOGLE json cloud key filename here that you got from \n",
    "# enabling your Google Cloud account and enabling speech to text and translation functions\n",
    "# in your Google Cloud Projects page\n",
    "\n",
    "# speech to text and translation load the keys in different ways, so we'll need to load them \n",
    "# twice - once as a global variable here in this run file, and once as an environment variable\n",
    "with open('./google_speech_api_key-############.json') as filekey:\n",
    "    gkey = json.load(filekey)\n",
    "\n",
    "GOOGLE_CLOUD_SPEECH_CREDENTIALS = json.dumps(gkey) # for speech recognition\n",
    "GOOGLE_APPLICATION_CREDENTIALS = \"./google_speech_api_key-############.json\" # for translation\n",
    "os.environ['GOOGLE_APPLICATION_CREDENTIALS'] = r'google_speech_api_key-############.json'"
   ]
  },
  {
   "cell_type": "code",
   "execution_count": 3,
   "metadata": {},
   "outputs": [],
   "source": [
    "# Define a function record that streams an internet audio stream into \n",
    "# a sound file for the duration specified \n",
    "def record(filepath, stream, duration):\n",
    "    \"\"\"records an internet audio stream for a given duration into a file\"\"\"\n",
    "    fd = open(filepath, 'wb')\n",
    "    begin = datetime.datetime.now()\n",
    "    print(\"record beginning: \" + str(begin))\n",
    "    duration = datetime.timedelta(milliseconds=duration)\n",
    "    while datetime.datetime.now() - begin < duration:\n",
    "        data = stream.read(10000)\n",
    "        fd.write(data)\n",
    "    fd.close()\n",
    "    print(\"record ending:    \" + str(datetime.datetime.now()))\n",
    "    print(\"filename: \" + filepath)"
   ]
  },
  {
   "cell_type": "code",
   "execution_count": 5,
   "metadata": {},
   "outputs": [],
   "source": [
    "# SPEECH RECOGNITION function\n",
    "def do_google_speech_recognition(filename_wav):\n",
    "    \"\"\"wrapper function to run the google cloud speech to text\"\"\"\n",
    "\n",
    "    s = \"\"  # declare s as a string\n",
    "\n",
    "    speechrec = sr.Recognizer()  # instantiate a google speech recognizer\n",
    "\n",
    "    try:\n",
    "        with sr.AudioFile(filename_wav) as source: \n",
    "            speechrec.adjust_for_ambient_noise(source)\n",
    "            audio = speechrec.record(source)\n",
    "            s = speechrec.recognize_google_cloud(audio, \n",
    "                language=\"fr\", \n",
    "                credentials_json=GOOGLE_CLOUD_SPEECH_CREDENTIALS) \n",
    "            print(\"Google Cloud Speech thinks you said: \")\n",
    "            print(s)\n",
    "\n",
    "    except sr.UnknownValueError:\n",
    "        print(\"Google Cloud Speech could not understand audio\")\n",
    "    except sr.RequestError as e:\n",
    "        print(\"Could not request results from Google Cloud Speech service; {0}\".format(e))\n",
    "\n",
    "    return s"
   ]
  },
  {
   "cell_type": "code",
   "execution_count": 13,
   "metadata": {},
   "outputs": [],
   "source": [
    "# TRANSLATION function\n",
    "def do_google_translation(input_text):\n",
    "    \"\"\"given a text in French, translate it to English using Google Cloud Translate\"\"\"\n",
    "\n",
    "    # more on google cloud translate v2 here: \n",
    "    # https://github.com/googleapis/python-translate/blob/master/google/cloud/translate_v2/client.py \n",
    "\n",
    "    # instantiate the client\n",
    "    translate_client = translate.Client()\n",
    "\n",
    "    # error check on binary typing\n",
    "    if isinstance(input_text, six.binary_type):\n",
    "        input_text = input_text.decode(\"utf-8\")\n",
    "        print(\"decoding to utf-8\")\n",
    "\n",
    "    # if you want to download and print supported languages, uncomment and run this:\n",
    "\n",
    "    #supported_languages = translate_client.get_languages()\n",
    "    #for language in supported_languages:\n",
    "    #    print(u\"{name} ({language})\".format(**language))\n",
    "\n",
    "    result = translate_client.translate(input_text, target_language=\"en\", source_language=\"fr\")\n",
    "\n",
    "    #print(u\"Original Text: {}\".format(result[\"input\"]))\n",
    "    #print(u\"Detected source language: {}\".format(result[\"detectedSourceLanguage\"]))\n",
    "    print(u\"Translation: {}\".format(result[\"translatedText\"]))\n",
    "    \n",
    "    return str( result[\"translatedText\"] )"
   ]
  },
  {
   "source": [
    "# Run blocks\n",
    "Here is sample code to record snippets of internet radio; then using Google Cloud, we can \n",
    "do speech to text recognition, and translation, at least for French (use RFI Afrique)"
   ],
   "cell_type": "markdown",
   "metadata": {}
  },
  {
   "cell_type": "code",
   "execution_count": 10,
   "metadata": {},
   "outputs": [
    {
     "output_type": "stream",
     "name": "stdout",
     "text": [
      "record beginning: 2021-01-24 20:13:57.675913\n",
      "record ending:    2021-01-24 20:14:27.766576\n",
      "filename: stream-20210124-201356.mp3\n"
     ]
    }
   ],
   "source": [
    "# Here we record a file\n",
    "\n",
    "filename = datetime.datetime.now().strftime(\"stream-%Y%m%d-%H%M%S.mp3\")\n",
    "seconds_to_record = 30\n",
    "\n",
    "# uncomment the line below for radiostudio Kalangou\n",
    "#record(filename, urlopen(\"https://studiokalangou.orientedhosting.com/kalangou\"), seconds_to_record *1000) \n",
    "\n",
    "# uncomment the line below for radio Sahara  https://www.radioline.co/listen-to-radio-sahara\n",
    "#record(filename, urlopen(\"http://www.radioking.com/play/radio-sahara?_=1454863441\"), seconds_to_record *1000) \n",
    "\n",
    "# uncomment the line below for radio RFI Afrique https://www.rfi.fr/fr/afrique/ \n",
    "record(filename, urlopen(\"https://rfiafrique64k.ice.infomaniak.ch/rfiafrique-64.mp3\"), seconds_to_record *1000) \n"
   ]
  },
  {
   "cell_type": "code",
   "execution_count": 11,
   "metadata": {},
   "outputs": [
    {
     "output_type": "stream",
     "name": "stdout",
     "text": [
      "Google Cloud Speech thinks you said: \noui parce que tu sais il y a il y a très peu de jeune congolais qui joue autre chose que la rumba donc c'est ses ces gens-là ils sont plus par rapport au public et et on les met plus dans ta catégorie à toi donc on a rigolé et j'ai bien de rencontrer des composés qui n'est pas là justement pourquoi vous avez discuté tous les deux éléments de pas suivre l'autoroute de la rumba qui passe au Congo dans mon cas moi en fait c'est je n'avais pas décidé de devenir musicien je suis allé au séminaire moi prêtre et \n"
     ]
    }
   ],
   "source": [
    "# Here we do google speech recognition\n",
    "# if you have problems it's most likely your key\n",
    "\n",
    "# convert mp3 file temporarily to a wav file\n",
    "filename_wav = filename + \".tmp.wav\"\n",
    "sound_segment = AudioSegment.from_mp3(filename) # load the mp3\n",
    "sound_segment = sound_segment.set_channels(1) # kock down to 1 channel to save space hopefully\n",
    "sound_segment.export(filename_wav, format=\"wav\") # write to wav file\n",
    "\n",
    "# get the text using the google speech recognition api\n",
    "spoken_text = do_google_speech_recognition(filename_wav)\n",
    "\n",
    "# delete the temporary wav file\n",
    "os.remove(filename_wav)"
   ]
  },
  {
   "cell_type": "code",
   "execution_count": 14,
   "metadata": {},
   "outputs": [
    {
     "output_type": "stream",
     "name": "stdout",
     "text": [
      "Translation: yes because you know there are very few young Congolese who play anything other than rumba so these are the people they are more in relation to the public and we put them more in your category So we laughed and I had a good time meeting compounds that are not there precisely why you discussed both elements of not following the rumba highway that passes through Congo in my case me in fact it is I had not decided to become a musician I went to the seminary as a priest and\n"
     ]
    }
   ],
   "source": [
    "# here we do the google translate to English\n",
    "# if you have problems it's most likely your key\n",
    "\n",
    "translated_text = do_google_translation(spoken_text)\n"
   ]
  }
 ]
}