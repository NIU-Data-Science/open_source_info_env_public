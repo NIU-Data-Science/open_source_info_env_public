{
 "metadata": {
  "language_info": {
   "codemirror_mode": {
    "name": "ipython",
    "version": 3
   },
   "file_extension": ".py",
   "mimetype": "text/x-python",
   "name": "python",
   "nbconvert_exporter": "python",
   "pygments_lexer": "ipython3",
   "version": "3.8.5-final"
  },
  "orig_nbformat": 2,
  "kernelspec": {
   "name": "python3",
   "display_name": "Python 3",
   "language": "python"
  }
 },
 "nbformat": 4,
 "nbformat_minor": 2,
 "cells": [
  {
   "source": [
    "# Splice Audio\n",
    "This file contains basic functions for splicing a small piece out of a larger audio file \n",
    "for easy running and debugging with Kaldi"
   ],
   "cell_type": "markdown",
   "metadata": {}
  },
  {
   "cell_type": "code",
   "execution_count": 6,
   "metadata": {},
   "outputs": [],
   "source": [
    "# Import the AudioSegment class for processing audio and the \n",
    "# split_on_silence function for separating out silent chunks.\n",
    "from pydub import AudioSegment\n",
    "from pydub import effects\n",
    "from pydub.silence import split_on_silence\n",
    "from pydub.utils import mediainfo"
   ]
  },
  {
   "cell_type": "code",
   "execution_count": 7,
   "metadata": {},
   "outputs": [],
   "source": [
    "# Define a function to normalize a chunk to a target amplitude.\n",
    "def signal_process_for_kaldi(aChunk, target_dBFS=-20):\n",
    "    \"\"\"normalize a chunk to a target amplitude\"\"\"\n",
    "\n",
    "    change_in_dBFS = target_dBFS - aChunk.dBFS\n",
    "    aChunk = aChunk.apply_gain(change_in_dBFS)\n",
    "\n",
    "    aChunk = aChunk.low_pass_filter(1600)\n",
    "    aChunk = aChunk.high_pass_filter(200)\n",
    "\n",
    "    return aChunk"
   ]
  },
  {
   "cell_type": "code",
   "execution_count": 11,
   "metadata": {},
   "outputs": [],
   "source": [
    "# function to display parameters of a given audio segment\n",
    "def display_sound_file_parameters(aSegment):\n",
    "    \"\"\"display parameters of a given audio segment\"\"\"\n",
    "    \n",
    "    print(\"audio length: {} seconds\".format(aSegment.duration_seconds))\n",
    "    print(\"input average dB: {}\".format(aSegment.dBFS) )\n",
    "    print(\"frame rate: {} kHz\".format(aSegment.frame_rate/1000 ))\n",
    "    print(\"channels: {}\".format(aSegment.channels))"
   ]
  },
  {
   "cell_type": "code",
   "execution_count": 8,
   "metadata": {},
   "outputs": [],
   "source": [
    "# define a function to splice out an appropriate audio chunk and write it to a wav file\n",
    "def splice_out_audio_chunk_by_time(input_sound_file_name, startMin=0, startSec=0, \n",
    "    endMin=0, endSec=10, normalize_to_dBFS=-20.0):\n",
    "    \"\"\"splice out an appropriate audio chunk and write it to a wav file\"\"\"\n",
    "\n",
    "    # Convert input time to milliseconds\n",
    "    startTime = startMin*60*1000 + startSec*1000\n",
    "    endTime = endMin*60*1000 + endSec*1000\n",
    "\n",
    "    # Load your audio\n",
    "    print(\"loading input file: {}\".format(input_sound_file_name))\n",
    "    input_sound_file = AudioSegment.from_mp3(input_sound_file_name + \".mp3\")\n",
    "\n",
    "    # output a few parameters \n",
    "    print(\"input file parameters:\")\n",
    "    display_sound_file_parameters(input_sound_file)\n",
    "\n",
    "    # do very basic scaling for kaldi \n",
    "    input_sound_file = input_sound_file.set_channels(1)\n",
    "    input_sound_file = input_sound_file.set_frame_rate(16000)\n",
    "\n",
    "    # do the splice\n",
    "    extract = input_sound_file[startTime:endTime]\n",
    "\n",
    "    # figure out the output file name - insert start and stop times into the filename\n",
    "    output_file_name = input_sound_file_name \\\n",
    "        + \"--\" + str(startMin).zfill(2) + str(startSec).zfill(2) \\\n",
    "        + \"-\"  + str(endMin).zfill(2)   + str(endSec).zfill(2)\n",
    "\n",
    "    # Normalize the entire chunk.\n",
    "    print(\"normalizing...\")\n",
    "    extract = signal_process_for_kaldi(extract, -20.0)\n",
    "\n",
    "    # output the new parameters\n",
    "    print(\"output paramaters:\")\n",
    "    display_sound_file_parameters(extract)\n",
    "\n",
    "    # output the resulting audio file as a wav\n",
    "    print(\"writing to disk \" + output_file_name + \".wav ...\")\n",
    "    extract.export(output_file_name + \".wav\", bitrate = \"192k\", format=\"wav\")\n",
    "\n",
    "    return extract"
   ]
  },
  {
   "source": [
    "# Run block\n",
    "Here we can try a sample file to see how it splits things up into a smaller segment for testing and running and debugging; we'll specify exactly a start and stop time"
   ],
   "cell_type": "markdown",
   "metadata": {}
  },
  {
   "cell_type": "code",
   "execution_count": 9,
   "metadata": {},
   "outputs": [
    {
     "output_type": "stream",
     "name": "stdout",
     "text": [
      "loading input file: SWAHILI-NEWS-100820\n",
      "audio length: 1783.8265759637188 seconds\n",
      "input average dB: -21.19383463711162\n",
      "frame rate: 44.1 kHz\n",
      "channels: 2\n",
      "new frame rate (khz): 16.0\n",
      "new channels: 1\n",
      "normalizing...\n",
      "writing to disk SWAHILI-NEWS-100820--1016-1034.wav ...\n",
      "done\n"
     ]
    }
   ],
   "source": [
    "# set your user parameters here - really just the filename of a big mp3 file\n",
    "# then we'll call functions to split it up\n",
    "input_sound_file_name = \"SWAHILI-NEWS-100820_first12minutes\" # mp3 file filename - withOUT the .mp3 suffix\n",
    "exported_chunk = splice_out_audio_chunk_by_time(\"SWAHILI-NEWS-100820\", # mp3 file filename (w/o suffix)\n",
    "    startMin = 10, # start time for splice\n",
    "    startSec = 16,\n",
    "    endMin = 10, # end time for splice\n",
    "    endSec = 34)\n",
    "\n",
    "print(\"done\")"
   ]
  },
  {
   "cell_type": "code",
   "execution_count": 12,
   "metadata": {},
   "outputs": [
    {
     "output_type": "stream",
     "name": "stdout",
     "text": [
      "audio length: 5.22 seconds\ninput average dB: -19.015677414152567\nframe rate: 16.0 kHz\nchannels: 1\n"
     ]
    }
   ],
   "source": [
    "# run this to get parameters and information about a wav file\n",
    "\n",
    "#sf = AudioSegment.from_wav(\"wave_file_name_here.wav\")\n",
    "#display_sound_file_parameters(sf)"
   ]
  }
 ]
}