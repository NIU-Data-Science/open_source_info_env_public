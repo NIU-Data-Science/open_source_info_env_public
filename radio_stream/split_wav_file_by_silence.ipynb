{
 "metadata": {
  "language_info": {
   "codemirror_mode": {
    "name": "ipython",
    "version": 3
   },
   "file_extension": ".py",
   "mimetype": "text/x-python",
   "name": "python",
   "nbconvert_exporter": "python",
   "pygments_lexer": "ipython3",
   "version": "3.8.5-final"
  },
  "orig_nbformat": 2,
  "kernelspec": {
   "name": "python3",
   "display_name": "Python 3",
   "language": "python"
  }
 },
 "nbformat": 4,
 "nbformat_minor": 2,
 "cells": [
  {
   "source": [
    "# Split up a wav file into multiple smaller files\n",
    "and do so attempting to use silence as good breaking points\n",
    "\n",
    "Probably, there is a much better and more consistent way to do this.  Some fine tuning might be \n",
    "necessary to adjust for the bacground noise of your source.  Overall, though, this is a basic\n",
    "structure for splitting big files into multiple smaller ones for easier, more consistent, more debuggable\n",
    "feeding into Kaldi or other speech to text engines that might choke on files too large or too long"
   ],
   "cell_type": "markdown",
   "metadata": {}
  },
  {
   "cell_type": "code",
   "execution_count": 1,
   "metadata": {},
   "outputs": [],
   "source": [
    "# Import the AudioSegment class for processing audio and the \n",
    "# split_on_silence function for separating out silent chunks.\n",
    "from pydub import AudioSegment\n",
    "from pydub.silence import split_on_silence\n",
    "from pydub.utils import mediainfo"
   ]
  },
  {
   "cell_type": "code",
   "execution_count": 2,
   "metadata": {},
   "outputs": [],
   "source": [
    "# Define a function to normalize a chunk to a target amplitude.\n",
    "def signal_process_for_kaldi(aChunk, target_dBFS=-20):\n",
    "    \"\"\"normalize a chunk to a target amplitude\"\"\"\n",
    "    \n",
    "    # normalize in dB\n",
    "    change_in_dBFS = target_dBFS - aChunk.dBFS\n",
    "    aChunk = aChunk.apply_gain(change_in_dBFS)\n",
    "\n",
    "    # apply simple filters for noise\n",
    "    aChunk = aChunk.low_pass_filter(1600)\n",
    "    aChunk = aChunk.high_pass_filter(200)\n",
    "\n",
    "    # return AudioSegment\n",
    "    return aChunk"
   ]
  },
  {
   "cell_type": "code",
   "execution_count": 3,
   "metadata": {},
   "outputs": [],
   "source": [
    "# Function to measure and adjust the length of an array of chunks \n",
    "# Do this after splitting so that you don't have chunks\n",
    "# that are too small to be useful; default min size is 3 seconds\n",
    "def check_min_chunk_length(chunks, minimum_seconds=3):\n",
    "    \"\"\"measure and adjust the length of chunks in an array of chunks to be minimum_seconds long\"\"\"\n",
    "\n",
    "    # now recombine the chunks so that the parts are at least \"min_seconds\" sec long\n",
    "    target_length_minimum = minimum_seconds * 1000  # converst from s to ms\n",
    "\n",
    "    output_chunks = [chunks[0]]\n",
    "\n",
    "    # this was really hard to write and understand but it works\n",
    "    for chunk in chunks[1:]:\n",
    "        if len(output_chunks[-1]) < target_length_minimum:\n",
    "            output_chunks[-1] += chunk\n",
    "        else:\n",
    "            # if the last output chunk is longer than the target length,\n",
    "            # we can start a new one\n",
    "            output_chunks.append(chunk)\n",
    "\n",
    "    return output_chunks"
   ]
  },
  {
   "source": [
    "# Run code\n",
    "let's try some samples"
   ],
   "cell_type": "markdown",
   "metadata": {}
  },
  {
   "cell_type": "code",
   "execution_count": 4,
   "metadata": {},
   "outputs": [],
   "source": [
    "# Load your audio file\n",
    "input_sound_file_name = \"The Sound of the Swahili language (Numbers, Greetings, Words & Sample Text).mp3\" \n",
    "# from https://www.youtube.com/watch?v=h74ZKoXiL0E\n"
   ]
  },
  {
   "cell_type": "code",
   "execution_count": 5,
   "metadata": {},
   "outputs": [
    {
     "output_type": "stream",
     "name": "stdout",
     "text": [
      "input file name: The Sound of the Swahili language (Numbers, Greetings, Words & Sample Text).mp3\ninput average dB: -15.133787820994764\nnew frame rate (khz): 16.0\nnew channels: 1\n"
     ]
    }
   ],
   "source": [
    "input_sound_file = AudioSegment.from_mp3(input_sound_file_name)\n",
    "input_sound_file = input_sound_file.set_channels(1)\n",
    "input_sound_file = input_sound_file.set_frame_rate(16000)\n",
    "\n",
    "print(\"input file name: {}\".format(input_sound_file_name))\n",
    "print(\"input average dB: {}\".format(input_sound_file.dBFS) )\n",
    "print(\"new frame rate (khz): {}\".format(input_sound_file.frame_rate/1000 ))\n",
    "print(\"new channels: {}\".format(input_sound_file.channels))\n"
   ]
  },
  {
   "cell_type": "code",
   "execution_count": 6,
   "metadata": {},
   "outputs": [
    {
     "output_type": "stream",
     "name": "stdout",
     "text": [
      "number of chunks: 62\n"
     ]
    }
   ],
   "source": [
    "# Split track where the silence is 2 seconds or more and get chunks using \n",
    "# the imported function.\n",
    "chunks = split_on_silence (\n",
    "    # Use the loaded audio.\n",
    "    input_sound_file, \n",
    "    # Specify that a silent chunk must be at least 1 seconds or 1000 ms long.\n",
    "    min_silence_len = 1000,\n",
    "    # Consider a chunk silent if it's quieter than -16 dBFS, where 0 is max dB of\n",
    "    # (You may want to adjust this parameter.)\n",
    "    silence_thresh = -26,\n",
    "    # amount of silence to leave at the beginning\n",
    "    # and end of the chunks. Keeps the sound from sounding like it is\n",
    "    # abruptly cut off\n",
    "    keep_silence = 500\n",
    ")\n",
    "print(\"number of chunks: {}\".format(len(chunks)))\n"
   ]
  },
  {
   "cell_type": "code",
   "execution_count": 7,
   "metadata": {},
   "outputs": [],
   "source": [
    "# let's adjust the chunks to make sure the min chunk size of 3 seconds\n",
    "chunks = check_min_chunk_length(chunks, 3)"
   ]
  },
  {
   "cell_type": "code",
   "execution_count": 8,
   "metadata": {},
   "outputs": [
    {
     "output_type": "stream",
     "name": "stdout",
     "text": [
      "Exporting: chunk0.wav.\n",
      "Exporting: chunk1.wav.\n",
      "Exporting: chunk2.wav.\n",
      "Exporting: chunk3.wav.\n",
      "Exporting: chunk4.wav.\n",
      "Exporting: chunk5.wav.\n",
      "Exporting: chunk6.wav.\n",
      "Exporting: chunk7.wav.\n",
      "Exporting: chunk8.wav.\n",
      "Exporting: chunk9.wav.\n",
      "Exporting: chunk10.wav.\n",
      "Exporting: chunk11.wav.\n",
      "Exporting: chunk12.wav.\n",
      "Exporting: chunk13.wav.\n",
      "Exporting: chunk14.wav.\n",
      "Exporting: chunk15.wav.\n",
      "Exporting: chunk16.wav.\n",
      "Exporting: chunk17.wav.\n",
      "Exporting: chunk18.wav.\n",
      "Exporting: chunk19.wav.\n",
      "Exporting: chunk20.wav.\n",
      "Exporting: chunk21.wav.\n",
      "Exporting: chunk22.wav.\n",
      "Exporting: chunk23.wav.\n",
      "Exporting: chunk24.wav.\n",
      "Exporting: chunk25.wav.\n",
      "Exporting: chunk26.wav.\n",
      "Exporting: chunk27.wav.\n",
      "Exporting: chunk28.wav.\n",
      "Exporting: chunk29.wav.\n",
      "Exporting: chunk30.wav.\n",
      "Exporting: chunk31.wav.\n",
      "Exporting: chunk32.wav.\n",
      "Exporting: chunk33.wav.\n",
      "Exporting: chunk34.wav.\n",
      "Exporting: chunk35.wav.\n",
      "Exporting: chunk36.wav.\n",
      "Exporting: chunk37.wav.\n",
      "Exporting: chunk38.wav.\n",
      "Exporting: chunk39.wav.\n",
      "Exporting: chunk40.wav.\n",
      "Exporting: chunk41.wav.\n",
      "Exporting: chunk42.wav.\n",
      "Exporting: chunk43.wav.\n",
      "Exporting: chunk44.wav.\n",
      "Exporting: chunk45.wav.\n",
      "Exporting: chunk46.wav.\n",
      "Exporting: chunk47.wav.\n",
      "Exporting: chunk48.wav.\n",
      "Exporting: chunk49.wav.\n",
      "Exporting: chunk50.wav.\n",
      "Exporting: chunk51.wav.\n",
      "Exporting: chunk52.wav.\n",
      "Exporting: chunk53.wav.\n"
     ]
    }
   ],
   "source": [
    "# Process and export each chunk \n",
    "for i, chunk in enumerate(chunks):\n",
    "    # Create a silence chunk that's 0.5 seconds (or 500 ms) long for padding.\n",
    "    silence_padding = AudioSegment.silent(duration=500)\n",
    "    \n",
    "    # Add the padding chunk to beginning and end of the entire chunk.\n",
    "    audio_chunk = silence_padding + chunk + silence_padding\n",
    "\n",
    "    # Normalize the entire chunk.\n",
    "    normalized_chunk = signal_process_for_kaldi(audio_chunk, -16.0)\n",
    "\n",
    "    # Export the audio chunk with new bitrate.\n",
    "    print(\"Exporting: chunk{0}.wav.\".format(i))\n",
    "    normalized_chunk.export(\n",
    "        \".//soundchunks//chunk{0}.wav\".format(i),\n",
    "        bitrate = \"192k\",\n",
    "        format = \"wav\"\n",
    "    )\n",
    "\n",
    "   #if i > 7 :\n",
    "   #     break"
   ]
  },
  {
   "cell_type": "code",
   "execution_count": null,
   "metadata": {},
   "outputs": [],
   "source": []
  }
 ]
}